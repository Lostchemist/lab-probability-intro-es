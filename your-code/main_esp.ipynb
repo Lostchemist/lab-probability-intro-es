{
 "cells": [
  {
   "cell_type": "markdown",
   "metadata": {},
   "source": [
    "# Probability"
   ]
  },
  {
   "cell_type": "markdown",
   "metadata": {},
   "source": [
    "## Reto 1\n",
    "Hay una caja con 10 bolas blancas, 12 bolas rojas y 8 bolas negras. Calcula la probabilidad de:\n",
    "* Sacar una bola blanca.\n",
    "* Sacar una bola blanca en la primera extracción y una bola negra en la segunda extracción sin reemplazar la primera.\n",
    "* Sacar una bola blanca en la primera extracción y una bola negra en la segunda extracción reemplazando la primera.\n",
    "* Sacar 3 bolas y que sean todas de diferentes colores."
   ]
  },
  {
   "cell_type": "code",
   "execution_count": 1,
   "metadata": {},
   "outputs": [],
   "source": [
    "import pandas as pd"
   ]
  },
  {
   "cell_type": "code",
   "execution_count": 5,
   "metadata": {},
   "outputs": [],
   "source": [
    "bolas_blancas = 10\n",
    "bolas_rojas = 12\n",
    "bolas_negras = 8\n",
    "total_bolas = bolas_blancas + bolas_rojas + bolas_negras"
   ]
  },
  {
   "cell_type": "code",
   "execution_count": 7,
   "metadata": {},
   "outputs": [],
   "source": [
    "# Probabilidad de sacar una bola blanca\n",
    "prob_bola_blanca = bolas_blancas / total_bolas\n",
    "\n",
    "# Probabilidad de sacar una bola blanca en la primera extracción y una bola negra en la segunda extracción sin reemplazar la primera\n",
    "prob_bola_blanca_primera_sin_reemplazo = bolas_blancas / total_bolas\n",
    "prob_bola_negra_segunda_sin_reemplazo = bolas_negras / (total_bolas - 1)\n",
    "prob_blanca_negra_sin_reemplazo = prob_bola_blanca_primera_sin_reemplazo * prob_bola_negra_segunda_sin_reemplazo\n",
    "\n",
    "# Probabilidad de sacar una bola blanca en la primera extracción y una bola negra en la segunda extracción reemplazando la primera\n",
    "prob_bola_blanca_primera_con_reemplazo = bolas_blancas / total_bolas\n",
    "prob_bola_negra_segunda_con_reemplazo = bolas_negras / total_bolas\n",
    "prob_blanca_negra_con_reemplazo = prob_bola_blanca_primera_con_reemplazo * prob_bola_negra_segunda_con_reemplazo\n",
    "\n",
    "# Probabilidad de sacar 3 bolas y que sean todas de diferentes colores\n",
    "prob_bola_blanca_primera = bolas_blancas / total_bolas\n",
    "prob_bola_roja_segunda = bolas_rojas / (total_bolas - 1)\n",
    "prob_bola_negra_tercera = bolas_negras / (total_bolas - 2)\n",
    "prob_diferentes_colores = prob_bola_blanca_primera * prob_bola_roja_segunda * prob_bola_negra_tercera\n",
    "\n",
    "# Resultados\n",
    "probabilidades = {\n",
    "    \"Probabilidad de sacar una bola blanca\": prob_bola_blanca,\n",
    "    \"Probabilidad de sacar una bola blanca y luego una bola negra sin reemplazo\": prob_blanca_negra_sin_reemplazo,\n",
    "    \"Probabilidad de sacar una bola blanca y luego una bola negra con reemplazo\": prob_blanca_negra_con_reemplazo,\n",
    "    \"Probabilidad de sacar 3 bolas de diferentes colores\": prob_diferentes_colores\n",
    "}\n"
   ]
  },
  {
   "cell_type": "code",
   "execution_count": 8,
   "metadata": {},
   "outputs": [
    {
     "name": "stdout",
     "output_type": "stream",
     "text": [
      "                                              Evento  Probabilidad\n",
      "0              Probabilidad de sacar una bola blanca      0.333333\n",
      "1  Probabilidad de sacar una bola blanca y luego ...      0.091954\n",
      "2  Probabilidad de sacar una bola blanca y luego ...      0.088889\n",
      "3  Probabilidad de sacar 3 bolas de diferentes co...      0.039409\n"
     ]
    }
   ],
   "source": [
    "df_probabilidades = pd.DataFrame(probabilidades.items(), columns=[\"Evento\", \"Probabilidad\"])\n",
    "print(df_probabilidades)"
   ]
  },
  {
   "cell_type": "markdown",
   "metadata": {},
   "source": [
    "## Reto 2\n",
    "\n",
    "Quieres ir de picnic el sábado. Odias la lluvia y quieres planificar tu fin de semana. Para ayudarte a tomar una decisión, recopilas los siguientes datos sobre los días lluviosos:\n",
    "\n",
    "* El 40% de todos los días están nublados.\n",
    "* Aproximadamente el 50% de los días nublados son lluviosos.\n",
    "* Aproximadamente el 20% de los días no nublados son lluviosos.\n",
    "\n",
    "¿Cuál es la probabilidad de que llueva el próximo sábado?"
   ]
  },
  {
   "cell_type": "code",
   "execution_count": 9,
   "metadata": {},
   "outputs": [
    {
     "name": "stdout",
     "output_type": "stream",
     "text": [
      "La probabilidad de que llueva el próximo sábado es: 0.32 o 32.00%\n"
     ]
    }
   ],
   "source": [
    "# Definimos las probabilidades dadas\n",
    "P_N = 0.40  # Probabilidad de que un día esté nublado\n",
    "P_L_given_N = 0.50  # Probabilidad de que un día lluvioso sea nublado\n",
    "P_L_given_not_N = 0.20  # Probabilidad de que un día lluvioso no sea nublado\n",
    "\n",
    "# Calculamos la probabilidad de que un día no esté nublado\n",
    "P_not_N = 1 - P_N\n",
    "\n",
    "# Usamos la ley de la probabilidad total para encontrar P(L)\n",
    "P_L = (P_L_given_N * P_N) + (P_L_given_not_N * P_not_N)\n",
    "\n",
    "# Mostramos el resultado\n",
    "print(f\"La probabilidad de que llueva el próximo sábado es: {P_L:.2f} o {P_L*100:.2f}%\")\n"
   ]
  },
  {
   "cell_type": "markdown",
   "metadata": {},
   "source": [
    "## Reto 3\n",
    "\n",
    "A y B son eventos de una probabilidad tal que \\(P(A) = 0.3\\), \\(P(B) = 0.6\\) y \\(P(A \\cap B) = 0.1\\)\n",
    "\n",
    "¿Cuáles de las siguientes afirmaciones son verdaderas?\n",
    "**SUGERENCIA: dibuja un gran diagrama de Venn a tu lado**\n",
    "* \\(P(\\overline{A}) = 0.7\\)\n",
    "* \\(P(A \\cup B) = 0.6\\)\n",
    "* \\(P(A \\cap \\overline{B}) = 0.2\\)\n",
    "* \\(P(A \\cup \\overline{A}) = 1\\)  \n",
    "* \\(P(A \\cap (B \\cup \\overline{B})) = 0.4\\)\n",
    "* \\(P(\\overline{A} \\cap \\overline{B}) = 0.3\\)\n",
    "* \\(P(\\overline{A \\cap B}) = 0.9\\)"
   ]
  },
  {
   "cell_type": "code",
   "execution_count": 10,
   "metadata": {},
   "outputs": [
    {
     "name": "stdout",
     "output_type": "stream",
     "text": [
      "                                Afirmación  Es verdadera\n",
      "0                    P(\\overline{A}) = 0.7          True\n",
      "1                        P(A \\cup B) = 0.6         False\n",
      "2             P(A \\cap \\overline{B}) = 0.2         False\n",
      "3               P(A \\cup \\overline{A}) = 1          True\n",
      "4    P(A \\cap (B \\cup \\overline{B})) = 0.4         False\n",
      "5  P(\\overline{A} \\cap \\overline{B}) = 0.3         False\n",
      "6             P(\\overline{A \\cap B}) = 0.9          True\n"
     ]
    }
   ],
   "source": [
    "# Probabilidades dadas\n",
    "P_A = 0.3\n",
    "P_B = 0.6\n",
    "P_A_and_B = 0.1\n",
    "\n",
    "# Calcular las probabilidades relevantes\n",
    "P_not_A = 1 - P_A\n",
    "P_A_or_B = P_A + P_B - P_A_and_B\n",
    "P_A_and_not_B = P_A - P_A_and_B\n",
    "P_A_or_not_A = 1\n",
    "P_A_and_B_or_not_B = P_A\n",
    "P_not_A_and_not_B = 1 - P_A_or_B\n",
    "P_not_A_and_B = 1 - P_A_and_B\n",
    "\n",
    "# Crear un diccionario para las afirmaciones y sus resultados\n",
    "afirmaciones = {\n",
    "    \"P(\\\\overline{A}) = 0.7\": P_not_A == 0.7,\n",
    "    \"P(A \\\\cup B) = 0.6\": P_A_or_B == 0.6,\n",
    "    \"P(A \\\\cap \\\\overline{B}) = 0.2\": P_A_and_not_B == 0.2,\n",
    "    \"P(A \\\\cup \\\\overline{A}) = 1\": P_A_or_not_A == 1,\n",
    "    \"P(A \\\\cap (B \\\\cup \\\\overline{B})) = 0.4\": P_A_and_B_or_not_B == 0.4,\n",
    "    \"P(\\\\overline{A} \\\\cap \\\\overline{B}) = 0.3\": P_not_A_and_not_B == 0.3,\n",
    "    \"P(\\\\overline{A \\\\cap B}) = 0.9\": P_not_A_and_B == 0.9\n",
    "}\n",
    "\n",
    "import pandas as pd\n",
    "\n",
    "# Mostrar los resultados en un DataFrame\n",
    "df_afirmaciones = pd.DataFrame(afirmaciones.items(), columns=[\"Afirmación\", \"Es verdadera\"])\n",
    "print(df_afirmaciones)\n"
   ]
  },
  {
   "cell_type": "markdown",
   "metadata": {},
   "source": [
    "## Reto 4\n",
    "\n",
    "* Si alguien viaja a China, la probabilidad de contraer Covid es del 1%\n",
    "* Si alguien viaja a Italia, la probabilidad de contraer Covid es del 20%\n",
    "\n",
    "Lanzo un dado con números 1, 2, 3, 4, 5, 6:\n",
    "* Si sale 1: Vuelo a Italia\n",
    "* Si no sale 1: Vuelo a China\n",
    "\n",
    "Durante mi viaje, contraje Covid. ¿Cuál es la probabilidad de que haya volado a China?"
   ]
  },
  {
   "cell_type": "code",
   "execution_count": 11,
   "metadata": {},
   "outputs": [
    {
     "data": {
      "text/plain": [
       "(0.041666666666666664, 0.2)"
      ]
     },
     "execution_count": 11,
     "metadata": {},
     "output_type": "execute_result"
    }
   ],
   "source": [
    "# Probabilidades dadas\n",
    "P_C_given_I = 0.20\n",
    "P_C_given_Ch = 0.01\n",
    "P_I = 1 / 6\n",
    "P_Ch = 5 / 6\n",
    "\n",
    "# Calcular P(C) usando la ley de la probabilidad total\n",
    "P_C = (P_C_given_I * P_I) + (P_C_given_Ch * P_Ch)\n",
    "\n",
    "# Calcular P(Ch|C) usando el Teorema de Bayes\n",
    "P_Ch_given_C = (P_C_given_Ch * P_Ch) / P_C\n",
    "\n",
    "P_C, P_Ch_given_C\n"
   ]
  },
  {
   "cell_type": "markdown",
   "metadata": {},
   "source": [
    "## BONUS\n",
    "\n",
    "Lanzas 2 dados. ¿Cuál es la probabilidad de que la suma de los números sea 7? ¿Y 8? ¿Y 9? Luego simula 10000 veces y dibuja un gráfico de conteo.\n",
    "\n",
    "tu explicación aquí"
   ]
  },
  {
   "cell_type": "code",
   "execution_count": 12,
   "metadata": {},
   "outputs": [
    {
     "data": {
      "image/png": "[encoded data removed]",
      "text/plain": [
       "<Figure size 1000x600 with 1 Axes>"
      ]
     },
     "metadata": {},
     "output_type": "display_data"
    },
    {
     "name": "stdout",
     "output_type": "stream",
     "text": [
      "Probabilidad teórica de suma 7: 0.1667\n",
      "Probabilidad simulada de suma 7: 0.1731\n",
      "Probabilidad teórica de suma 8: 0.1389\n",
      "Probabilidad simulada de suma 8: 0.1365\n",
      "Probabilidad teórica de suma 9: 0.1111\n",
      "Probabilidad simulada de suma 9: 0.1164\n"
     ]
    }
   ],
   "source": [
    "import numpy as np\n",
    "import matplotlib.pyplot as plt\n",
    "\n",
    "# Configuramos la simulación\n",
    "num_simulaciones = 10000\n",
    "\n",
    "# Lanzamos dos dados\n",
    "dados1 = np.random.randint(1, 7, num_simulaciones)\n",
    "dados2 = np.random.randint(1, 7, num_simulaciones)\n",
    "\n",
    "# Sumamos los resultados de los dos dados\n",
    "sumas = dados1 + dados2\n",
    "\n",
    "# Contamos las ocurrencias de cada suma\n",
    "conteos = np.bincount(sumas)\n",
    "\n",
    "# Filtramos las sumas de interés\n",
    "sumas_interes = range(2, 13)\n",
    "conteos_interes = conteos[2:13]\n",
    "\n",
    "# Creamos un gráfico de barras\n",
    "plt.figure(figsize=(10, 6))\n",
    "plt.bar(sumas_interes, conteos_interes, color='skyblue', edgecolor='black')\n",
    "plt.xlabel('Suma de los Dados')\n",
    "plt.ylabel('Frecuencia')\n",
    "plt.title('Frecuencia de la Suma de Dos Dados (Simulación de 10000 Lanzamientos)')\n",
    "plt.xticks(sumas_interes)\n",
    "plt.grid(True)\n",
    "plt.show()\n",
    "\n",
    "# Probabilidades calculadas teóricamente\n",
    "prob_7 = 1/6\n",
    "prob_8 = 5/36\n",
    "prob_9 = 1/9\n",
    "\n",
    "# Resultados de la simulación\n",
    "sim_prob_7 = conteos[7] / num_simulaciones\n",
    "sim_prob_8 = conteos[8] / num_simulaciones\n",
    "sim_prob_9 = conteos[9] / num_simulaciones\n",
    "\n",
    "# Mostrar resultados\n",
    "print(f\"Probabilidad teórica de suma 7: {prob_7:.4f}\")\n",
    "print(f\"Probabilidad simulada de suma 7: {sim_prob_7:.4f}\")\n",
    "\n",
    "print(f\"Probabilidad teórica de suma 8: {prob_8:.4f}\")\n",
    "print(f\"Probabilidad simulada de suma 8: {sim_prob_8:.4f}\")\n",
    "\n",
    "print(f\"Probabilidad teórica de suma 9: {prob_9:.4f}\")\n",
    "print(f\"Probabilidad simulada de suma 9: {sim_prob_9:.4f}\")\n"
   ]
  }
 ],
 "metadata": {
  "kernelspec": {
   "display_name": "Python 3 (ipykernel)",
   "language": "python",
   "name": "python3"
  },
  "language_info": {
   "codemirror_mode": {
    "name": "ipython",
    "version": 3
   },
   "file_extension": ".py",
   "mimetype": "text/x-python",
   "name": "python",
   "nbconvert_exporter": "python",
   "pygments_lexer": "ipython3",
   "version": "3.12.2"
  },
  "toc": {
   "base_numbering": 1,
   "nav_menu": {},
   "number_sections": false,
   "sideBar": true,
   "skip_h1_title": false,
   "title_cell": "Table of Contents",
   "title_sidebar": "Contents",
   "toc_cell": false,
   "toc_position": {
    "height": "calc(100% - 180px)",
    "left": "10px",
    "top": "150px",
    "width": "296.475px"
   },
   "toc_section_display": true,
   "toc_window_display": false
  },
  "varInspector": {
   "cols": {
    "lenName": 16,
    "lenType": 16,
    "lenVar": 40
   },
   "kernels_config": {
    "python": {
     "delete_cmd_postfix": "",
     "delete_cmd_prefix": "del ",
     "library": "var_list.py",
     "varRefreshCmd": "print(var_dic_list())"
    },
    "r": {
     "delete_cmd_postfix": ") ",
     "delete_cmd_prefix": "rm(",
     "library": "var_list.r",
     "varRefreshCmd": "cat(var_dic_list()) "
    }
   },
   "types_to_exclude": [
    "module",
    "function",
    "builtin_function_or_method",
    "instance",
    "_Feature"
   ],
   "window_display": false
  }
 },
 "nbformat": 4,
 "nbformat_minor": 2
}
